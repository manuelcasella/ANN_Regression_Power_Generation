{
 "cells": [
  {
   "cell_type": "markdown",
   "metadata": {
    "colab_type": "text",
    "id": "bwlJ7gI1dLh5"
   },
   "source": [
    "Artificial Neural Network - Combined Cycle Power Production DataSet\n",
    " "
   ]
  },
  {
   "cell_type": "markdown",
   "metadata": {
    "colab_type": "text",
    "id": "QkOulVA_dqc7"
   },
   "source": [
    "Importing Libraries"
   ]
  },
  {
   "cell_type": "code",
   "execution_count": 1,
   "metadata": {
    "colab": {},
    "colab_type": "code",
    "executionInfo": {
     "elapsed": 2699,
     "status": "ok",
     "timestamp": 1598810183441,
     "user": {
      "displayName": "Manuel Casella",
      "photoUrl": "https://lh3.googleusercontent.com/a-/AOh14GjzwB_yznlFPtQygS1nPWq1SClAbiigFD36-IcqNA=s64",
      "userId": "15929487117315073481"
     },
     "user_tz": 180
    },
    "id": "mP1EBOzpgecX"
   },
   "outputs": [],
   "source": [
    "import numpy as np\n",
    "import pandas as pd\n",
    "import tensorflow as tf"
   ]
  },
  {
   "cell_type": "code",
   "execution_count": 2,
   "metadata": {
    "colab": {
     "base_uri": "https://localhost:8080/",
     "height": 35
    },
    "colab_type": "code",
    "executionInfo": {
     "elapsed": 947,
     "status": "ok",
     "timestamp": 1598810187919,
     "user": {
      "displayName": "Manuel Casella",
      "photoUrl": "https://lh3.googleusercontent.com/a-/AOh14GjzwB_yznlFPtQygS1nPWq1SClAbiigFD36-IcqNA=s64",
      "userId": "15929487117315073481"
     },
     "user_tz": 180
    },
    "id": "jzuNo69jdYED",
    "outputId": "f82a1404-c42e-4583-a556-3bebda6a1ff9"
   },
   "outputs": [
    {
     "data": {
      "application/vnd.google.colaboratory.intrinsic+json": {
       "type": "string"
      },
      "text/plain": [
       "'2.3.0'"
      ]
     },
     "execution_count": 2,
     "metadata": {
      "tags": []
     },
     "output_type": "execute_result"
    }
   ],
   "source": [
    "tf.__version__"
   ]
  },
  {
   "cell_type": "markdown",
   "metadata": {
    "colab_type": "text",
    "id": "KPhtgVXyg8Pr"
   },
   "source": [
    "1- Data Preprocessing"
   ]
  },
  {
   "cell_type": "code",
   "execution_count": 3,
   "metadata": {
    "colab": {},
    "colab_type": "code",
    "executionInfo": {
     "elapsed": 3050,
     "status": "ok",
     "timestamp": 1598810726782,
     "user": {
      "displayName": "Manuel Casella",
      "photoUrl": "https://lh3.googleusercontent.com/a-/AOh14GjzwB_yznlFPtQygS1nPWq1SClAbiigFD36-IcqNA=s64",
      "userId": "15929487117315073481"
     },
     "user_tz": 180
    },
    "id": "3ZSTP4Rgg7Ti"
   },
   "outputs": [],
   "source": [
    "dataset=pd.read_excel('Folds5x2_pp.xlsx')\n",
    "X=dataset.iloc[ : , :-1].values\n",
    "y=dataset.iloc[ : , -1].values"
   ]
  },
  {
   "cell_type": "markdown",
   "metadata": {
    "colab_type": "text",
    "id": "fAjAe8_yjEAn"
   },
   "source": [
    "Splitting the Dataset into Training and Test Set"
   ]
  },
  {
   "cell_type": "code",
   "execution_count": 4,
   "metadata": {
    "colab": {},
    "colab_type": "code",
    "executionInfo": {
     "elapsed": 1022,
     "status": "ok",
     "timestamp": 1598811100502,
     "user": {
      "displayName": "Manuel Casella",
      "photoUrl": "https://lh3.googleusercontent.com/a-/AOh14GjzwB_yznlFPtQygS1nPWq1SClAbiigFD36-IcqNA=s64",
      "userId": "15929487117315073481"
     },
     "user_tz": 180
    },
    "id": "2RVFBsOYjJgF"
   },
   "outputs": [],
   "source": [
    "from sklearn.model_selection import train_test_split\n",
    "X_train,X_test,y_train,y_test=train_test_split(X,y,test_size=0.2,random_state=0)"
   ]
  },
  {
   "cell_type": "markdown",
   "metadata": {
    "colab_type": "text",
    "id": "UsqL7G5xkYir"
   },
   "source": [
    "2- Bulding the ANN"
   ]
  },
  {
   "cell_type": "markdown",
   "metadata": {
    "colab_type": "text",
    "id": "faI6VdQskctI"
   },
   "source": [
    "Initializing the ANN"
   ]
  },
  {
   "cell_type": "code",
   "execution_count": 5,
   "metadata": {
    "colab": {},
    "colab_type": "code",
    "executionInfo": {
     "elapsed": 1056,
     "status": "ok",
     "timestamp": 1598812405225,
     "user": {
      "displayName": "Manuel Casella",
      "photoUrl": "https://lh3.googleusercontent.com/a-/AOh14GjzwB_yznlFPtQygS1nPWq1SClAbiigFD36-IcqNA=s64",
      "userId": "15929487117315073481"
     },
     "user_tz": 180
    },
    "id": "wqp9EWwckcAF"
   },
   "outputs": [],
   "source": [
    "ann=tf.keras.models.Sequential()"
   ]
  },
  {
   "cell_type": "markdown",
   "metadata": {
    "colab_type": "text",
    "id": "XF4V7sMjlVgm"
   },
   "source": [
    "Adding the Input Layer and the first hidden layer"
   ]
  },
  {
   "cell_type": "code",
   "execution_count": 6,
   "metadata": {
    "colab": {},
    "colab_type": "code",
    "executionInfo": {
     "elapsed": 1057,
     "status": "ok",
     "timestamp": 1598812421365,
     "user": {
      "displayName": "Manuel Casella",
      "photoUrl": "https://lh3.googleusercontent.com/a-/AOh14GjzwB_yznlFPtQygS1nPWq1SClAbiigFD36-IcqNA=s64",
      "userId": "15929487117315073481"
     },
     "user_tz": 180
    },
    "id": "-qbndQ5YlcC2"
   },
   "outputs": [],
   "source": [
    "ann.add(tf.keras.layers.Dense(units=6,activation='relu'))"
   ]
  },
  {
   "cell_type": "markdown",
   "metadata": {
    "colab_type": "text",
    "id": "36RKeyx5lcrd"
   },
   "source": [
    "Adding the Second hidden layer"
   ]
  },
  {
   "cell_type": "code",
   "execution_count": 7,
   "metadata": {
    "colab": {},
    "colab_type": "code",
    "executionInfo": {
     "elapsed": 1050,
     "status": "ok",
     "timestamp": 1598812425833,
     "user": {
      "displayName": "Manuel Casella",
      "photoUrl": "https://lh3.googleusercontent.com/a-/AOh14GjzwB_yznlFPtQygS1nPWq1SClAbiigFD36-IcqNA=s64",
      "userId": "15929487117315073481"
     },
     "user_tz": 180
    },
    "id": "zSAV628pmY2g"
   },
   "outputs": [],
   "source": [
    "ann.add(tf.keras.layers.Dense(units=6,activation='relu'))"
   ]
  },
  {
   "cell_type": "markdown",
   "metadata": {
    "colab_type": "text",
    "id": "FDPCEH5smcG5"
   },
   "source": [
    "Adding the output layer"
   ]
  },
  {
   "cell_type": "code",
   "execution_count": 8,
   "metadata": {
    "colab": {},
    "colab_type": "code",
    "executionInfo": {
     "elapsed": 1061,
     "status": "ok",
     "timestamp": 1598812429394,
     "user": {
      "displayName": "Manuel Casella",
      "photoUrl": "https://lh3.googleusercontent.com/a-/AOh14GjzwB_yznlFPtQygS1nPWq1SClAbiigFD36-IcqNA=s64",
      "userId": "15929487117315073481"
     },
     "user_tz": 180
    },
    "id": "AFUuUVVImegU"
   },
   "outputs": [],
   "source": [
    "ann.add(tf.keras.layers.Dense(units=1))"
   ]
  },
  {
   "cell_type": "markdown",
   "metadata": {
    "colab_type": "text",
    "id": "JYbwFq_Qhh8i"
   },
   "source": []
  },
  {
   "cell_type": "markdown",
   "metadata": {
    "colab_type": "text",
    "id": "UOupka4Mpat2"
   },
   "source": [
    "3- Training the ANN"
   ]
  },
  {
   "cell_type": "markdown",
   "metadata": {
    "colab_type": "text",
    "id": "gC0ik0NWpetP"
   },
   "source": [
    "Compiling the ANN"
   ]
  },
  {
   "cell_type": "code",
   "execution_count": 9,
   "metadata": {
    "colab": {},
    "colab_type": "code",
    "executionInfo": {
     "elapsed": 1702,
     "status": "ok",
     "timestamp": 1598812669446,
     "user": {
      "displayName": "Manuel Casella",
      "photoUrl": "https://lh3.googleusercontent.com/a-/AOh14GjzwB_yznlFPtQygS1nPWq1SClAbiigFD36-IcqNA=s64",
      "userId": "15929487117315073481"
     },
     "user_tz": 180
    },
    "id": "xKgTfEy6pg_r"
   },
   "outputs": [],
   "source": [
    "ann.compile(optimizer='adam',loss='mean_squared_error')"
   ]
  },
  {
   "cell_type": "markdown",
   "metadata": {
    "colab_type": "text",
    "id": "xHj1AKpcph8c"
   },
   "source": [
    "Training the ANN model on the Training Set"
   ]
  },
  {
   "cell_type": "code",
   "execution_count": 10,
   "metadata": {
    "colab": {
     "base_uri": "https://localhost:8080/",
     "height": 1000
    },
    "colab_type": "code",
    "executionInfo": {
     "elapsed": 23714,
     "status": "ok",
     "timestamp": 1598812879090,
     "user": {
      "displayName": "Manuel Casella",
      "photoUrl": "https://lh3.googleusercontent.com/a-/AOh14GjzwB_yznlFPtQygS1nPWq1SClAbiigFD36-IcqNA=s64",
      "userId": "15929487117315073481"
     },
     "user_tz": 180
    },
    "id": "9pa96x_mplhb",
    "outputId": "6076261b-0ff4-4e6a-8ad4-2572e0558673"
   },
   "outputs": [
    {
     "name": "stdout",
     "output_type": "stream",
     "text": [
      "Epoch 1/100\n",
      "240/240 [==============================] - 0s 837us/step - loss: 132142.0938\n",
      "Epoch 2/100\n",
      "240/240 [==============================] - 0s 870us/step - loss: 4282.7202\n",
      "Epoch 3/100\n",
      "240/240 [==============================] - 0s 849us/step - loss: 298.2338\n",
      "Epoch 4/100\n",
      "240/240 [==============================] - 0s 880us/step - loss: 292.8477\n",
      "Epoch 5/100\n",
      "240/240 [==============================] - 0s 818us/step - loss: 286.1112\n",
      "Epoch 6/100\n",
      "240/240 [==============================] - 0s 893us/step - loss: 278.2810\n",
      "Epoch 7/100\n",
      "240/240 [==============================] - 0s 826us/step - loss: 269.5590\n",
      "Epoch 8/100\n",
      "240/240 [==============================] - 0s 812us/step - loss: 259.6391\n",
      "Epoch 9/100\n",
      "240/240 [==============================] - 0s 834us/step - loss: 248.9792\n",
      "Epoch 10/100\n",
      "240/240 [==============================] - 0s 844us/step - loss: 237.3989\n",
      "Epoch 11/100\n",
      "240/240 [==============================] - 0s 915us/step - loss: 225.1876\n",
      "Epoch 12/100\n",
      "240/240 [==============================] - 0s 820us/step - loss: 211.7017\n",
      "Epoch 13/100\n",
      "240/240 [==============================] - 0s 832us/step - loss: 198.2115\n",
      "Epoch 14/100\n",
      "240/240 [==============================] - 0s 806us/step - loss: 183.9358\n",
      "Epoch 15/100\n",
      "240/240 [==============================] - 0s 880us/step - loss: 169.7901\n",
      "Epoch 16/100\n",
      "240/240 [==============================] - 0s 874us/step - loss: 155.2975\n",
      "Epoch 17/100\n",
      "240/240 [==============================] - 0s 833us/step - loss: 141.2554\n",
      "Epoch 18/100\n",
      "240/240 [==============================] - 0s 826us/step - loss: 127.9486\n",
      "Epoch 19/100\n",
      "240/240 [==============================] - 0s 821us/step - loss: 115.0142\n",
      "Epoch 20/100\n",
      "240/240 [==============================] - 0s 822us/step - loss: 102.6642\n",
      "Epoch 21/100\n",
      "240/240 [==============================] - 0s 896us/step - loss: 91.5152\n",
      "Epoch 22/100\n",
      "240/240 [==============================] - 0s 821us/step - loss: 81.5722\n",
      "Epoch 23/100\n",
      "240/240 [==============================] - 0s 852us/step - loss: 72.9329\n",
      "Epoch 24/100\n",
      "240/240 [==============================] - 0s 915us/step - loss: 65.7345\n",
      "Epoch 25/100\n",
      "240/240 [==============================] - 0s 877us/step - loss: 58.9062\n",
      "Epoch 26/100\n",
      "240/240 [==============================] - 0s 845us/step - loss: 54.0805\n",
      "Epoch 27/100\n",
      "240/240 [==============================] - 0s 826us/step - loss: 49.6983\n",
      "Epoch 28/100\n",
      "240/240 [==============================] - 0s 838us/step - loss: 46.3768\n",
      "Epoch 29/100\n",
      "240/240 [==============================] - 0s 825us/step - loss: 43.0282\n",
      "Epoch 30/100\n",
      "240/240 [==============================] - 0s 833us/step - loss: 40.7831\n",
      "Epoch 31/100\n",
      "240/240 [==============================] - 0s 879us/step - loss: 38.6404\n",
      "Epoch 32/100\n",
      "240/240 [==============================] - 0s 820us/step - loss: 37.1338\n",
      "Epoch 33/100\n",
      "240/240 [==============================] - 0s 823us/step - loss: 35.9055\n",
      "Epoch 34/100\n",
      "240/240 [==============================] - 0s 835us/step - loss: 34.6392\n",
      "Epoch 35/100\n",
      "240/240 [==============================] - 0s 863us/step - loss: 34.1058\n",
      "Epoch 36/100\n",
      "240/240 [==============================] - 0s 920us/step - loss: 32.9292\n",
      "Epoch 37/100\n",
      "240/240 [==============================] - 0s 827us/step - loss: 32.6019\n",
      "Epoch 38/100\n",
      "240/240 [==============================] - 0s 883us/step - loss: 32.6865\n",
      "Epoch 39/100\n",
      "240/240 [==============================] - 0s 831us/step - loss: 31.6167\n",
      "Epoch 40/100\n",
      "240/240 [==============================] - 0s 886us/step - loss: 31.3501\n",
      "Epoch 41/100\n",
      "240/240 [==============================] - 0s 818us/step - loss: 30.9010\n",
      "Epoch 42/100\n",
      "240/240 [==============================] - 0s 824us/step - loss: 30.4831\n",
      "Epoch 43/100\n",
      "240/240 [==============================] - 0s 847us/step - loss: 30.7625\n",
      "Epoch 44/100\n",
      "240/240 [==============================] - 0s 873us/step - loss: 30.0918\n",
      "Epoch 45/100\n",
      "240/240 [==============================] - 0s 850us/step - loss: 29.8123\n",
      "Epoch 46/100\n",
      "240/240 [==============================] - 0s 809us/step - loss: 29.6380\n",
      "Epoch 47/100\n",
      "240/240 [==============================] - 0s 834us/step - loss: 29.4246\n",
      "Epoch 48/100\n",
      "240/240 [==============================] - 0s 818us/step - loss: 29.0635\n",
      "Epoch 49/100\n",
      "240/240 [==============================] - 0s 833us/step - loss: 29.3074\n",
      "Epoch 50/100\n",
      "240/240 [==============================] - 0s 925us/step - loss: 28.7209\n",
      "Epoch 51/100\n",
      "240/240 [==============================] - 0s 859us/step - loss: 29.0077\n",
      "Epoch 52/100\n",
      "240/240 [==============================] - 0s 820us/step - loss: 29.1656\n",
      "Epoch 53/100\n",
      "240/240 [==============================] - 0s 820us/step - loss: 28.2931\n",
      "Epoch 54/100\n",
      "240/240 [==============================] - 0s 875us/step - loss: 27.9827\n",
      "Epoch 55/100\n",
      "240/240 [==============================] - 0s 867us/step - loss: 27.8879\n",
      "Epoch 56/100\n",
      "240/240 [==============================] - 0s 874us/step - loss: 27.5997\n",
      "Epoch 57/100\n",
      "240/240 [==============================] - 0s 894us/step - loss: 28.2168\n",
      "Epoch 58/100\n",
      "240/240 [==============================] - 0s 866us/step - loss: 27.6651\n",
      "Epoch 59/100\n",
      "240/240 [==============================] - 0s 870us/step - loss: 27.4347\n",
      "Epoch 60/100\n",
      "240/240 [==============================] - 0s 905us/step - loss: 27.9028\n",
      "Epoch 61/100\n",
      "240/240 [==============================] - 0s 838us/step - loss: 27.4026\n",
      "Epoch 62/100\n",
      "240/240 [==============================] - 0s 859us/step - loss: 27.2425\n",
      "Epoch 63/100\n",
      "240/240 [==============================] - 0s 825us/step - loss: 27.0771\n",
      "Epoch 64/100\n",
      "240/240 [==============================] - 0s 899us/step - loss: 27.1859\n",
      "Epoch 65/100\n",
      "240/240 [==============================] - 0s 874us/step - loss: 27.0883\n",
      "Epoch 66/100\n",
      "240/240 [==============================] - 0s 815us/step - loss: 27.2222\n",
      "Epoch 67/100\n",
      "240/240 [==============================] - 0s 811us/step - loss: 26.9488\n",
      "Epoch 68/100\n",
      "240/240 [==============================] - 0s 911us/step - loss: 26.7730\n",
      "Epoch 69/100\n",
      "240/240 [==============================] - 0s 890us/step - loss: 27.2785\n",
      "Epoch 70/100\n",
      "240/240 [==============================] - 0s 828us/step - loss: 26.7695\n",
      "Epoch 71/100\n",
      "240/240 [==============================] - 0s 829us/step - loss: 26.8472\n",
      "Epoch 72/100\n",
      "240/240 [==============================] - 0s 857us/step - loss: 27.1106\n",
      "Epoch 73/100\n",
      "240/240 [==============================] - 0s 833us/step - loss: 27.2570\n",
      "Epoch 74/100\n",
      "240/240 [==============================] - 0s 979us/step - loss: 27.0495\n",
      "Epoch 75/100\n",
      "240/240 [==============================] - 0s 872us/step - loss: 26.8079\n",
      "Epoch 76/100\n",
      "240/240 [==============================] - 0s 818us/step - loss: 27.3158\n",
      "Epoch 77/100\n",
      "240/240 [==============================] - 0s 829us/step - loss: 26.7048\n",
      "Epoch 78/100\n",
      "240/240 [==============================] - 0s 871us/step - loss: 26.7745\n",
      "Epoch 79/100\n",
      "240/240 [==============================] - 0s 928us/step - loss: 26.5624\n",
      "Epoch 80/100\n",
      "240/240 [==============================] - 0s 952us/step - loss: 26.5129\n",
      "Epoch 81/100\n",
      "240/240 [==============================] - 0s 920us/step - loss: 26.7238\n",
      "Epoch 82/100\n",
      "240/240 [==============================] - 0s 845us/step - loss: 26.8471\n",
      "Epoch 83/100\n",
      "240/240 [==============================] - 0s 850us/step - loss: 26.5726\n",
      "Epoch 84/100\n",
      "240/240 [==============================] - 0s 854us/step - loss: 26.8395\n",
      "Epoch 85/100\n",
      "240/240 [==============================] - 0s 886us/step - loss: 26.6745\n",
      "Epoch 86/100\n",
      "240/240 [==============================] - 0s 817us/step - loss: 26.8548\n",
      "Epoch 87/100\n",
      "240/240 [==============================] - 0s 890us/step - loss: 26.4847\n",
      "Epoch 88/100\n",
      "240/240 [==============================] - 0s 831us/step - loss: 26.6113\n",
      "Epoch 89/100\n",
      "240/240 [==============================] - 0s 830us/step - loss: 26.9326\n",
      "Epoch 90/100\n",
      "240/240 [==============================] - 0s 803us/step - loss: 26.3888\n",
      "Epoch 91/100\n",
      "240/240 [==============================] - 0s 812us/step - loss: 26.4809\n",
      "Epoch 92/100\n",
      "240/240 [==============================] - 0s 816us/step - loss: 26.4352\n",
      "Epoch 93/100\n",
      "240/240 [==============================] - 0s 895us/step - loss: 26.5563\n",
      "Epoch 94/100\n",
      "240/240 [==============================] - 0s 881us/step - loss: 26.3516\n",
      "Epoch 95/100\n",
      "240/240 [==============================] - 0s 869us/step - loss: 26.2780\n",
      "Epoch 96/100\n",
      "240/240 [==============================] - 0s 845us/step - loss: 26.7156\n",
      "Epoch 97/100\n",
      "240/240 [==============================] - 0s 858us/step - loss: 26.4575\n",
      "Epoch 98/100\n",
      "240/240 [==============================] - 0s 903us/step - loss: 26.5175\n",
      "Epoch 99/100\n",
      "240/240 [==============================] - 0s 871us/step - loss: 26.7591\n",
      "Epoch 100/100\n",
      "240/240 [==============================] - 0s 871us/step - loss: 26.5663\n"
     ]
    },
    {
     "data": {
      "text/plain": [
       "<tensorflow.python.keras.callbacks.History at 0x7ff5e1ad1668>"
      ]
     },
     "execution_count": 10,
     "metadata": {
      "tags": []
     },
     "output_type": "execute_result"
    }
   ],
   "source": [
    "ann.fit(X_train, y_train,batch_size=32,epochs=100)"
   ]
  },
  {
   "cell_type": "markdown",
   "metadata": {
    "colab_type": "text",
    "id": "fT8jgSgKqWxd"
   },
   "source": [
    "Predicting the results of the Test Set"
   ]
  },
  {
   "cell_type": "code",
   "execution_count": 12,
   "metadata": {
    "colab": {
     "base_uri": "https://localhost:8080/",
     "height": 136
    },
    "colab_type": "code",
    "executionInfo": {
     "elapsed": 1138,
     "status": "ok",
     "timestamp": 1598813964916,
     "user": {
      "displayName": "Manuel Casella",
      "photoUrl": "https://lh3.googleusercontent.com/a-/AOh14GjzwB_yznlFPtQygS1nPWq1SClAbiigFD36-IcqNA=s64",
      "userId": "15929487117315073481"
     },
     "user_tz": 180
    },
    "id": "vdFCK6aiqZ3w",
    "outputId": "142da51b-6bc9-4fda-a085-179941a3a692"
   },
   "outputs": [
    {
     "name": "stdout",
     "output_type": "stream",
     "text": [
      "[[432.39 431.23]\n",
      " [463.79 460.01]\n",
      " [467.43 461.14]\n",
      " ...\n",
      " [474.42 473.26]\n",
      " [441.61 438.  ]\n",
      " [460.67 463.28]]\n"
     ]
    }
   ],
   "source": [
    "y_pred=ann.predict(X_test)\n",
    "np.set_printoptions(precision=2)\n",
    "print(np.concatenate((y_pred.reshape(len(y_pred),1),y_test.reshape(len(y_test),1)),1))\n"
   ]
  }
 ],
 "metadata": {
  "colab": {
   "authorship_tag": "ABX9TyNHww3d9RNuTOBj+gW65JsE",
   "name": "CCPP_ANN_Reg",
   "provenance": []
  },
  "kernelspec": {
   "display_name": "Python 3",
   "language": "python",
   "name": "python3"
  },
  "language_info": {
   "codemirror_mode": {
    "name": "ipython",
    "version": 3
   },
   "file_extension": ".py",
   "mimetype": "text/x-python",
   "name": "python",
   "nbconvert_exporter": "python",
   "pygments_lexer": "ipython3",
   "version": "3.7.4"
  }
 },
 "nbformat": 4,
 "nbformat_minor": 1
}
